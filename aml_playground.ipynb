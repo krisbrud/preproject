{
 "cells": [
  {
   "cell_type": "code",
   "execution_count": 18,
   "metadata": {},
   "outputs": [],
   "source": [
    "import azureml"
   ]
  },
  {
   "cell_type": "code",
   "execution_count": 19,
   "metadata": {},
   "outputs": [
    {
     "data": {
      "text/plain": [
       "Workspace.create(name='aml-playground', subscription_id='3165a1c1-fd45-4c8d-938e-0058c823f960', resource_group='aml-playground')"
      ]
     },
     "execution_count": 19,
     "metadata": {},
     "output_type": "execute_result"
    }
   ],
   "source": [
    "from azureml.core import Workspace\n",
    "workspaces = Workspace.list(\"3165a1c1-fd45-4c8d-938e-0058c823f960\")\n",
    "ws = workspaces[\"aml-playground\"]\n",
    "playground_ws = ws[0]\n",
    "playground_ws"
   ]
  },
  {
   "cell_type": "code",
   "execution_count": 8,
   "metadata": {},
   "outputs": [
    {
     "name": "stdout",
     "output_type": "stream",
     "text": [
      "{'bar': 123, 'ham': False}\n",
      "{}\n"
     ]
    }
   ],
   "source": [
    "from dataclasses import dataclass, asdict\n",
    "\n",
    "@dataclass\n",
    "class Foo:\n",
    "    bar: int = 123\n",
    "    ham: bool = False\n",
    "\n",
    "\n",
    "@dataclass\n",
    "class OwnerClass:\n",
    "    foo1 = Foo()\n",
    "    other_param = 321\n",
    "\n",
    "\n",
    "owner_class = OwnerClass()\n",
    "print(asdict(owner_class.foo1))\n",
    "print(asdict(owner_class))"
   ]
  },
  {
   "cell_type": "markdown",
   "metadata": {},
   "source": [
    "## MLFlow"
   ]
  },
  {
   "cell_type": "code",
   "execution_count": 1,
   "metadata": {},
   "outputs": [
    {
     "name": "stdout",
     "output_type": "stream",
     "text": [
      "MLFlow Tracking URI: azureml://northeurope.api.azureml.ms/mlflow/v1.0/subscriptions/3165a1c1-fd45-4c8d-938e-0058c823f960/resourceGroups/aml-playground/providers/Microsoft.MachineLearningServices/workspaces/aml-playground\n"
     ]
    }
   ],
   "source": [
    "import mlflow\n",
    "\n",
    "## Construct AzureML MLFLOW TRACKING URI\n",
    "def get_azureml_mlflow_tracking_uri(region, subscription_id, resource_group, workspace):\n",
    "    return \"azureml://{}.api.azureml.ms/mlflow/v1.0/subscriptions/{}/resourceGroups/{}/providers/Microsoft.MachineLearningServices/workspaces/{}\".format(region, subscription_id, resource_group, workspace)\n",
    "\n",
    "region='northeurope' ## example: westus\n",
    "subscription_id = '3165a1c1-fd45-4c8d-938e-0058c823f960' ## example: 11111111-1111-1111-1111-111111111111\n",
    "resource_group = 'aml-playground' ## example: myresourcegroup\n",
    "workspace = 'aml-playground' ## example: myworkspacename\n",
    "\n",
    "MLFLOW_TRACKING_URI = get_azureml_mlflow_tracking_uri(region, subscription_id, resource_group, workspace)\n",
    "\n",
    "## Set the MLFLOW TRACKING URI\n",
    "mlflow.set_tracking_uri(MLFLOW_TRACKING_URI)\n",
    "\n",
    "## Make sure the MLflow URI looks something like this: \n",
    "## azureml://<REGION>.api.azureml.ms/mlflow/v1.0/subscriptions/<SUBSCRIPTION_ID>/resourceGroups/<RESOURCE_GROUP>/providers/Microsoft.MachineLearningServices/workspaces/<AML_WORKSPACE_NAME>\n",
    "\n",
    "print(\"MLFlow Tracking URI:\", MLFLOW_TRACKING_URI)"
   ]
  },
  {
   "cell_type": "code",
   "execution_count": 5,
   "metadata": {},
   "outputs": [
    {
     "data": {
      "text/plain": [
       "<Experiment: artifact_location='', experiment_id='71ee7d1e-bfe3-4bd3-9fd7-ee8dac02e15b', lifecycle_stage='active', name='experiment_with_mlflow', tags={}>"
      ]
     },
     "execution_count": 5,
     "metadata": {},
     "output_type": "execute_result"
    }
   ],
   "source": [
    "# Set the experiment name\n",
    "experiment_name = '100k_experiment'\n",
    "mlflow.set_experiment(experiment_name)"
   ]
  },
  {
   "cell_type": "code",
   "execution_count": 2,
   "metadata": {},
   "outputs": [
    {
     "data": {
      "image/png": "[encoded data removed]",
      "text/plain": [
       "<Figure size 432x288 with 1 Axes>"
      ]
     },
     "metadata": {
      "needs_background": "light"
     },
     "output_type": "display_data"
    }
   ],
   "source": [
    "import matplotlib.pyplot as plt\n",
    "\n",
    "plt.plot([2, 5, 6], [43, 152, 132])\n",
    "plt.savefig(\"artifacts/mock_plot.png\")"
   ]
  },
  {
   "cell_type": "code",
   "execution_count": 15,
   "metadata": {},
   "outputs": [
    {
     "name": "stdout",
     "output_type": "stream",
     "text": [
      "{'batch_size': 1024,\n",
      " 'clip_range': 0.2,\n",
      " 'ent_coef': 0.01,\n",
      " 'gae_lambda': 0.95,\n",
      " 'gamma': 0.999,\n",
      " 'learning_rate': 1e-05,\n",
      " 'n_epochs': 4,\n",
      " 'n_steps': 1024,\n",
      " 'verbose': 2}\n"
     ]
    }
   ],
   "source": [
    "import pprint\n",
    "\n",
    "hyperparams = {\n",
    "    \"n_steps\": 1024,  # 6144,\n",
    "    \"learning_rate\": 1e-5,\n",
    "    \"batch_size\": 1024,\n",
    "    \"gae_lambda\": 0.95,\n",
    "    \"gamma\": 0.999,\n",
    "    \"n_epochs\": 4,\n",
    "    \"clip_range\": 0.2,\n",
    "    \"ent_coef\": 0.01,\n",
    "    \"verbose\": 2\n",
    "}\n",
    "\n",
    "print(pprint.pformat(hyperparams))\n",
    "\n"
   ]
  },
  {
   "cell_type": "code",
   "execution_count": 6,
   "metadata": {},
   "outputs": [],
   "source": [
    "import os\n",
    "from random import random\n",
    "\n",
    "# Make a mock mlflow run\n",
    "\n",
    "\n",
    "\n",
    "\n",
    "\n",
    "with mlflow.start_run() as mlflow_run:\n",
    "    mlflow.log_param(\"hello_param\", \"world\")\n",
    "    mlflow.log_param(\"hyperparams\", hyperparams)\n",
    "    mlflow.log_metric(\"hello_metric\", random())\n",
    "    os.system(f\"echo 'hello hey hello world' > helloworld.txt\")\n",
    "    mlflow.log_artifact(\"helloworld.txt\")\n",
    "    mlflow.log_artifact(\"artifacts/mock_plot.png\")"
   ]
  },
  {
   "cell_type": "code",
   "execution_count": 45,
   "metadata": {},
   "outputs": [
    {
     "name": "stdout",
     "output_type": "stream",
     "text": [
      "{'hello_metric': 0.7127628508372319} {'mlflow.user': 'krisbrud', 'mlflow.source.name': '/home/krisbrud/anaconda3/envs/aml-playground/lib/python3.7/site-packages/ipykernel_launcher.py', 'mlflow.source.type': 'LOCAL', 'mlflow.rootRunId': 'f1b83440-0946-48c5-baa1-f1c4e75a5c28'} {'hello_param': 'world'}\n"
     ]
    }
   ],
   "source": [
    "from mlflow.tracking import MlflowClient\n",
    "\n",
    "# Use MlFlow to retrieve the run that was just completed\n",
    "client = MlflowClient()\n",
    "run_id = mlflow_run.info.run_id\n",
    "finished_mlflow_run = MlflowClient().get_run(run_id)\n",
    "\n",
    "metrics = finished_mlflow_run.data.metrics\n",
    "tags = finished_mlflow_run.data.tags\n",
    "params = finished_mlflow_run.data.params\n",
    "\n",
    "print(metrics,tags,params)"
   ]
  },
  {
   "cell_type": "code",
   "execution_count": 46,
   "metadata": {},
   "outputs": [
    {
     "data": {
      "text/plain": [
       "[<FileInfo: file_size=-1, is_dir=False, path='helloworld.txt'>]"
      ]
     },
     "execution_count": 46,
     "metadata": {},
     "output_type": "execute_result"
    }
   ],
   "source": [
    "client.list_artifacts(run_id)"
   ]
  },
  {
   "cell_type": "code",
   "execution_count": 47,
   "metadata": {},
   "outputs": [
    {
     "data": {
      "text/plain": [
       "'/home/krisbrud/repos/aml-playground/artifacts/helloworld.txt'"
      ]
     },
     "execution_count": 47,
     "metadata": {},
     "output_type": "execute_result"
    }
   ],
   "source": [
    "client.download_artifacts(run_id, \"helloworld.txt\", \"./artifacts\")"
   ]
  },
  {
   "cell_type": "code",
   "execution_count": 49,
   "metadata": {},
   "outputs": [
    {
     "data": {
      "text/html": [
       "<div>\n",
       "<style scoped>\n",
       "    .dataframe tbody tr th:only-of-type {\n",
       "        vertical-align: middle;\n",
       "    }\n",
       "\n",
       "    .dataframe tbody tr th {\n",
       "        vertical-align: top;\n",
       "    }\n",
       "\n",
       "    .dataframe thead th {\n",
       "        text-align: right;\n",
       "    }\n",
       "</style>\n",
       "<table border=\"1\" class=\"dataframe\">\n",
       "  <thead>\n",
       "    <tr style=\"text-align: right;\">\n",
       "      <th></th>\n",
       "      <th>run_id</th>\n",
       "      <th>experiment_id</th>\n",
       "      <th>status</th>\n",
       "      <th>artifact_uri</th>\n",
       "      <th>start_time</th>\n",
       "      <th>end_time</th>\n",
       "      <th>metrics.hello_metric</th>\n",
       "      <th>params.hello_param</th>\n",
       "      <th>params.hyperparams</th>\n",
       "      <th>tags.mlflow.user</th>\n",
       "      <th>tags.mlflow.source.type</th>\n",
       "      <th>tags.mlflow.rootRunId</th>\n",
       "      <th>tags.mlflow.source.name</th>\n",
       "    </tr>\n",
       "  </thead>\n",
       "  <tbody>\n",
       "    <tr>\n",
       "      <th>0</th>\n",
       "      <td>e606cdd5-bad0-43ff-bea6-cc89f8ae0cac</td>\n",
       "      <td>71ee7d1e-bfe3-4bd3-9fd7-ee8dac02e15b</td>\n",
       "      <td>FINISHED</td>\n",
       "      <td></td>\n",
       "      <td>2022-02-22 12:56:21.835000+00:00</td>\n",
       "      <td>2022-02-22 12:56:26.116000+00:00</td>\n",
       "      <td>0.040390</td>\n",
       "      <td>world</td>\n",
       "      <td>None</td>\n",
       "      <td>krisbrud</td>\n",
       "      <td>LOCAL</td>\n",
       "      <td>e606cdd5-bad0-43ff-bea6-cc89f8ae0cac</td>\n",
       "      <td>/home/krisbrud/anaconda3/envs/aml-playground/l...</td>\n",
       "    </tr>\n",
       "    <tr>\n",
       "      <th>1</th>\n",
       "      <td>bf808862-5178-4bcf-a12d-e6a5f1fef3ab</td>\n",
       "      <td>71ee7d1e-bfe3-4bd3-9fd7-ee8dac02e15b</td>\n",
       "      <td>FINISHED</td>\n",
       "      <td></td>\n",
       "      <td>2022-02-22 12:57:15.407000+00:00</td>\n",
       "      <td>2022-02-22 12:57:17.423000+00:00</td>\n",
       "      <td>0.996726</td>\n",
       "      <td>world</td>\n",
       "      <td>None</td>\n",
       "      <td>krisbrud</td>\n",
       "      <td>LOCAL</td>\n",
       "      <td>bf808862-5178-4bcf-a12d-e6a5f1fef3ab</td>\n",
       "      <td>/home/krisbrud/anaconda3/envs/aml-playground/l...</td>\n",
       "    </tr>\n",
       "    <tr>\n",
       "      <th>2</th>\n",
       "      <td>f1b83440-0946-48c5-baa1-f1c4e75a5c28</td>\n",
       "      <td>71ee7d1e-bfe3-4bd3-9fd7-ee8dac02e15b</td>\n",
       "      <td>FINISHED</td>\n",
       "      <td></td>\n",
       "      <td>2022-02-22 13:00:12.706000+00:00</td>\n",
       "      <td>2022-02-22 13:00:16.264000+00:00</td>\n",
       "      <td>0.712763</td>\n",
       "      <td>world</td>\n",
       "      <td>None</td>\n",
       "      <td>krisbrud</td>\n",
       "      <td>LOCAL</td>\n",
       "      <td>f1b83440-0946-48c5-baa1-f1c4e75a5c28</td>\n",
       "      <td>/home/krisbrud/anaconda3/envs/aml-playground/l...</td>\n",
       "    </tr>\n",
       "    <tr>\n",
       "      <th>3</th>\n",
       "      <td>9cd65741-558d-4ff9-85f7-61e7bf7ce4e5</td>\n",
       "      <td>71ee7d1e-bfe3-4bd3-9fd7-ee8dac02e15b</td>\n",
       "      <td>FINISHED</td>\n",
       "      <td></td>\n",
       "      <td>2022-02-22 13:03:04.422000+00:00</td>\n",
       "      <td>2022-02-22 13:03:08.549000+00:00</td>\n",
       "      <td>0.925580</td>\n",
       "      <td>world</td>\n",
       "      <td>{'n_steps': 1024, 'learning_rate': 1e-05, 'bat...</td>\n",
       "      <td>krisbrud</td>\n",
       "      <td>LOCAL</td>\n",
       "      <td>9cd65741-558d-4ff9-85f7-61e7bf7ce4e5</td>\n",
       "      <td>/home/krisbrud/anaconda3/envs/aml-playground/l...</td>\n",
       "    </tr>\n",
       "  </tbody>\n",
       "</table>\n",
       "</div>"
      ],
      "text/plain": [
       "                                 run_id                         experiment_id  \\\n",
       "0  e606cdd5-bad0-43ff-bea6-cc89f8ae0cac  71ee7d1e-bfe3-4bd3-9fd7-ee8dac02e15b   \n",
       "1  bf808862-5178-4bcf-a12d-e6a5f1fef3ab  71ee7d1e-bfe3-4bd3-9fd7-ee8dac02e15b   \n",
       "2  f1b83440-0946-48c5-baa1-f1c4e75a5c28  71ee7d1e-bfe3-4bd3-9fd7-ee8dac02e15b   \n",
       "3  9cd65741-558d-4ff9-85f7-61e7bf7ce4e5  71ee7d1e-bfe3-4bd3-9fd7-ee8dac02e15b   \n",
       "\n",
       "     status artifact_uri                       start_time  \\\n",
       "0  FINISHED              2022-02-22 12:56:21.835000+00:00   \n",
       "1  FINISHED              2022-02-22 12:57:15.407000+00:00   \n",
       "2  FINISHED              2022-02-22 13:00:12.706000+00:00   \n",
       "3  FINISHED              2022-02-22 13:03:04.422000+00:00   \n",
       "\n",
       "                          end_time  metrics.hello_metric params.hello_param  \\\n",
       "0 2022-02-22 12:56:26.116000+00:00              0.040390              world   \n",
       "1 2022-02-22 12:57:17.423000+00:00              0.996726              world   \n",
       "2 2022-02-22 13:00:16.264000+00:00              0.712763              world   \n",
       "3 2022-02-22 13:03:08.549000+00:00              0.925580              world   \n",
       "\n",
       "                                  params.hyperparams tags.mlflow.user  \\\n",
       "0                                               None         krisbrud   \n",
       "1                                               None         krisbrud   \n",
       "2                                               None         krisbrud   \n",
       "3  {'n_steps': 1024, 'learning_rate': 1e-05, 'bat...         krisbrud   \n",
       "\n",
       "  tags.mlflow.source.type                 tags.mlflow.rootRunId  \\\n",
       "0                   LOCAL  e606cdd5-bad0-43ff-bea6-cc89f8ae0cac   \n",
       "1                   LOCAL  bf808862-5178-4bcf-a12d-e6a5f1fef3ab   \n",
       "2                   LOCAL  f1b83440-0946-48c5-baa1-f1c4e75a5c28   \n",
       "3                   LOCAL  9cd65741-558d-4ff9-85f7-61e7bf7ce4e5   \n",
       "\n",
       "                             tags.mlflow.source.name  \n",
       "0  /home/krisbrud/anaconda3/envs/aml-playground/l...  \n",
       "1  /home/krisbrud/anaconda3/envs/aml-playground/l...  \n",
       "2  /home/krisbrud/anaconda3/envs/aml-playground/l...  \n",
       "3  /home/krisbrud/anaconda3/envs/aml-playground/l...  "
      ]
     },
     "execution_count": 49,
     "metadata": {},
     "output_type": "execute_result"
    }
   ],
   "source": [
    "from mlflow.entities import ViewType\n",
    "\n",
    "all_experiments = [exp.experiment_id for exp in MlflowClient().list_experiments()]\n",
    "query = \"metrics.hello_metric > 0\"\n",
    "runs = mlflow.search_runs(experiment_ids=all_experiments, filter_string=query, run_view_type=ViewType.ALL)\n",
    "\n",
    "runs.head(10)"
   ]
  },
  {
   "cell_type": "code",
   "execution_count": 51,
   "metadata": {},
   "outputs": [
    {
     "name": "stderr",
     "output_type": "stream",
     "text": [
      "Registered model 'registered_model_name' already exists. Creating a new version of this model...\n",
      "2022/02/22 14:32:39 INFO mlflow.tracking._model_registry.client: Waiting up to 300 seconds for model version to finish creation.                     Model name: registered_model_name, version 1\n",
      "Created version '1' of model 'registered_model_name'.\n"
     ]
    },
    {
     "data": {
      "text/plain": [
       "<ModelVersion: creation_timestamp=1645536759049, current_stage='None', description='', last_updated_timestamp=1645536759049, name='registered_model_name', run_id='f1b83440-0946-48c5-baa1-f1c4e75a5c28', run_link='', source='azureml://experiments/experiment_with_mlflow/runs/f1b83440-0946-48c5-baa1-f1c4e75a5c28/artifacts/helloworld.txt', status='READY', status_message='', tags={}, user_id='', version='1'>"
      ]
     },
     "execution_count": 51,
     "metadata": {},
     "output_type": "execute_result"
    }
   ],
   "source": [
    "# the model folder produced from a run is registered. This includes the MLmodel file, model.pkl and the conda.yaml.\n",
    "model_path = \"helloworld.txt\"\n",
    "model_uri = 'runs:/{}/{}'.format(run_id, model_path) \n",
    "mlflow.register_model(model_uri,\"registered_model_name\")"
   ]
  },
  {
   "cell_type": "markdown",
   "metadata": {},
   "source": [
    "## Run experiment"
   ]
  },
  {
   "cell_type": "code",
   "execution_count": 20,
   "metadata": {},
   "outputs": [
    {
     "name": "stdout",
     "output_type": "stream",
     "text": [
      "Found existing compute target.\n",
      "{'currentNodeCount': 0, 'targetNodeCount': 0, 'nodeStateCounts': {'preparingNodeCount': 0, 'runningNodeCount': 0, 'idleNodeCount': 0, 'unusableNodeCount': 0, 'leavingNodeCount': 0, 'preemptedNodeCount': 0}, 'allocationState': 'Steady', 'allocationStateTransitionTime': '2022-02-23T14:39:35.592000+00:00', 'errors': None, 'creationTime': '2022-02-18T13:52:07.329227+00:00', 'modifiedTime': '2022-02-18T13:52:11.078251+00:00', 'provisioningState': 'Succeeded', 'provisioningStateTransitionTime': None, 'scaleSettings': {'minNodeCount': 0, 'maxNodeCount': 1, 'nodeIdleTimeBeforeScaleDown': 'PT1800S'}, 'vmPriority': 'Dedicated', 'vmSize': 'STANDARD_DS3_V2'}\n"
     ]
    }
   ],
   "source": [
    "from azureml.core.compute import ComputeTarget, AmlCompute\n",
    "from azureml.core.compute_target import ComputeTargetException\n",
    "\n",
    "# Choose a name for your cluster.\n",
    "cluster_name = \"play-cpu-cluster\"\n",
    "# instance_name = \"cpuinstance1\"\n",
    "# cluster_name = instance_name\n",
    "\n",
    "\n",
    "try:\n",
    "    compute_target = ComputeTarget(workspace=playground_ws, name=cluster_name)\n",
    "    print('Found existing compute target.')\n",
    "except ComputeTargetException:\n",
    "    print('Creating a new compute target...')\n",
    "    compute_config = AmlCompute.provisioning_configuration(vm_size='STANDARD_DS3_V2',\n",
    "                                                           max_nodes=1)\n",
    "\n",
    "    # Create the cluster.\n",
    "    compute_target = ComputeTarget.create(playground_ws, cluster_name, compute_config)\n",
    "\n",
    "    compute_target.wait_for_completion(show_output=True)\n",
    "\n",
    "# Use get_status() to get a detailed status for the current AmlCompute.\n",
    "print(compute_target.get_status().serialize())"
   ]
  },
  {
   "cell_type": "code",
   "execution_count": 22,
   "metadata": {},
   "outputs": [],
   "source": [
    "from azureml.core import ScriptRunConfig\n",
    "from azureml.core.environment import Environment as AmlEnvironment\n",
    "\n",
    "auv_docker_env = AmlEnvironment.from_docker_image(\"gym_env_second\", \"krisbrud.azurecr.io/gym-auv\")\n",
    "experiment_name = \"reduced_observation_vector_elevator_pid\"\n",
    "\n",
    "\n",
    "src = ScriptRunConfig(source_directory='../gym-auv',\n",
    "                      script='train3d.py',\n",
    "                      arguments=[\"--timesteps\", int(30e6), \n",
    "                                 \"--mlflow_tracking_uri\", \"azureml://northeurope.api.azureml.ms/mlflow/v1.0/subscriptions/3165a1c1-fd45-4c8d-938e-0058c823f960/resourceGroups/aml-playground/providers/Microsoft.MachineLearningServices/workspaces/aml-playground\",\n",
    "                                 \"--exp_id\", experiment_name],\n",
    "                      compute_target=compute_target,\n",
    "                      environment=auv_docker_env)\n",
    "\n"
   ]
  },
  {
   "cell_type": "code",
   "execution_count": 23,
   "metadata": {},
   "outputs": [
    {
     "name": "stdout",
     "output_type": "stream",
     "text": [
      "RunId: reduced_observation_vector_elevator_pid_1646055118_fdb3daa0\n",
      "Web View: https://ml.azure.com/runs/reduced_observation_vector_elevator_pid_1646055118_fdb3daa0?wsid=/subscriptions/3165a1c1-fd45-4c8d-938e-0058c823f960/resourcegroups/aml-playground/workspaces/aml-playground&tid=09a10672-822f-4467-a5ba-5bb375967c05\n",
      "\n",
      "Execution Summary\n",
      "=================\n",
      "RunId: reduced_observation_vector_elevator_pid_1646055118_fdb3daa0\n",
      "Web View: https://ml.azure.com/runs/reduced_observation_vector_elevator_pid_1646055118_fdb3daa0?wsid=/subscriptions/3165a1c1-fd45-4c8d-938e-0058c823f960/resourcegroups/aml-playground/workspaces/aml-playground&tid=09a10672-822f-4467-a5ba-5bb375967c05\n",
      "\n"
     ]
    },
    {
     "data": {
      "text/plain": [
       "{'runId': 'reduced_observation_vector_elevator_pid_1646055118_fdb3daa0',\n",
       " 'target': 'play-cpu-cluster',\n",
       " 'status': 'Completed',\n",
       " 'startTimeUtc': '2022-02-28T13:34:03.473396Z',\n",
       " 'endTimeUtc': '2022-03-01T03:45:22.482632Z',\n",
       " 'services': {},\n",
       " 'properties': {'_azureml.ComputeTargetType': 'amlcompute',\n",
       "  'ContentSnapshotId': '70df7152-a118-420e-8811-b0f2559d2feb',\n",
       "  'azureml.git.repository_uri': 'git@gitlab.stud.idi.ntnu.no:krisbrud/gym-auv.git',\n",
       "  'mlflow.source.git.repoURL': 'git@gitlab.stud.idi.ntnu.no:krisbrud/gym-auv.git',\n",
       "  'azureml.git.branch': '9-fix-observations',\n",
       "  'mlflow.source.git.branch': '9-fix-observations',\n",
       "  'azureml.git.commit': '30a878c5bf5710e3c49b7edc8eb00951d2ef2e67',\n",
       "  'mlflow.source.git.commit': '30a878c5bf5710e3c49b7edc8eb00951d2ef2e67',\n",
       "  'azureml.git.dirty': 'True',\n",
       "  'ProcessInfoFile': 'azureml-logs/process_info.json',\n",
       "  'ProcessStatusFile': 'azureml-logs/process_status.json'},\n",
       " 'inputDatasets': [],\n",
       " 'outputDatasets': [],\n",
       " 'runDefinition': {'script': 'train3d.py',\n",
       "  'command': '',\n",
       "  'useAbsolutePath': False,\n",
       "  'arguments': ['--timesteps',\n",
       "   '30000000',\n",
       "   '--mlflow_tracking_uri',\n",
       "   'azureml://northeurope.api.azureml.ms/mlflow/v1.0/subscriptions/3165a1c1-fd45-4c8d-938e-0058c823f960/resourceGroups/aml-playground/providers/Microsoft.MachineLearningServices/workspaces/aml-playground',\n",
       "   '--exp_id',\n",
       "   'reduced_observation_vector_elevator_pid'],\n",
       "  'sourceDirectoryDataStore': None,\n",
       "  'framework': 'Python',\n",
       "  'communicator': 'None',\n",
       "  'target': 'play-cpu-cluster',\n",
       "  'dataReferences': {},\n",
       "  'data': {},\n",
       "  'outputData': {},\n",
       "  'datacaches': [],\n",
       "  'jobName': None,\n",
       "  'maxRunDurationSeconds': 2592000,\n",
       "  'nodeCount': 1,\n",
       "  'instanceTypes': [],\n",
       "  'priority': None,\n",
       "  'credentialPassthrough': False,\n",
       "  'identity': None,\n",
       "  'environment': {'name': 'gym_env_second',\n",
       "   'version': 'Autosave_2022-02-28T13:32:06Z_e9e8b018',\n",
       "   'python': {'interpreterPath': 'python',\n",
       "    'userManagedDependencies': True,\n",
       "    'condaDependencies': {'name': 'project_environment',\n",
       "     'dependencies': ['python=3.6.2', {'pip': ['azureml-defaults']}],\n",
       "     'channels': ['anaconda', 'conda-forge']},\n",
       "    'baseCondaEnvironment': None},\n",
       "   'environmentVariables': {'EXAMPLE_ENV_VAR': 'EXAMPLE_VALUE'},\n",
       "   'docker': {'baseImage': 'krisbrud.azurecr.io/gym-auv',\n",
       "    'platform': {'os': 'Linux', 'architecture': 'amd64'},\n",
       "    'baseDockerfile': None,\n",
       "    'baseImageRegistry': {'address': None, 'username': None, 'password': None},\n",
       "    'enabled': False,\n",
       "    'arguments': []},\n",
       "   'spark': {'repositories': [], 'packages': [], 'precachePackages': True},\n",
       "   'inferencingStackVersion': None},\n",
       "  'history': {'outputCollection': True,\n",
       "   'directoriesToWatch': ['logs'],\n",
       "   'enableMLflowTracking': True,\n",
       "   'snapshotProject': True},\n",
       "  'spark': {'configuration': {'spark.app.name': 'Azure ML Experiment',\n",
       "    'spark.yarn.maxAppAttempts': '1'}},\n",
       "  'parallelTask': {'maxRetriesPerWorker': 0,\n",
       "   'workerCountPerNode': 1,\n",
       "   'terminalExitCodes': None,\n",
       "   'configuration': {}},\n",
       "  'amlCompute': {'name': None,\n",
       "   'vmSize': None,\n",
       "   'retainCluster': False,\n",
       "   'clusterMaxNodeCount': None},\n",
       "  'aiSuperComputer': {'instanceType': 'D2',\n",
       "   'imageVersion': 'pytorch-1.7.0',\n",
       "   'location': None,\n",
       "   'aiSuperComputerStorageData': None,\n",
       "   'interactive': False,\n",
       "   'scalePolicy': None,\n",
       "   'virtualClusterArmId': None,\n",
       "   'tensorboardLogDirectory': None,\n",
       "   'sshPublicKey': None,\n",
       "   'sshPublicKeys': None,\n",
       "   'enableAzmlInt': True,\n",
       "   'priority': 'Medium',\n",
       "   'slaTier': 'Standard',\n",
       "   'userAlias': None},\n",
       "  'kubernetesCompute': {'instanceType': None},\n",
       "  'tensorflow': {'workerCount': 1, 'parameterServerCount': 1},\n",
       "  'mpi': {'processCountPerNode': 1},\n",
       "  'pyTorch': {'communicationBackend': 'nccl', 'processCount': None},\n",
       "  'hdi': {'yarnDeployMode': 'Cluster'},\n",
       "  'containerInstance': {'region': None, 'cpuCores': 2.0, 'memoryGb': 3.5},\n",
       "  'exposedPorts': None,\n",
       "  'docker': {'useDocker': False,\n",
       "   'sharedVolumes': True,\n",
       "   'shmSize': '2g',\n",
       "   'arguments': []},\n",
       "  'cmk8sCompute': {'configuration': {}},\n",
       "  'commandReturnCodeConfig': {'returnCode': 'Zero',\n",
       "   'successfulReturnCodes': []},\n",
       "  'environmentVariables': {},\n",
       "  'applicationEndpoints': {},\n",
       "  'parameters': []},\n",
       " 'logFiles': {},\n",
       " 'submittedBy': 'Kristian Brudeli'}"
      ]
     },
     "execution_count": 23,
     "metadata": {},
     "output_type": "execute_result"
    }
   ],
   "source": [
    "from azureml.core import Experiment\n",
    "\n",
    "run = Experiment(playground_ws, experiment_name).submit(src)\n",
    "run.wait_for_completion(show_output=True)\n"
   ]
  },
  {
   "cell_type": "code",
   "execution_count": null,
   "metadata": {},
   "outputs": [],
   "source": [
    "\n",
    "from azureml.tensorboard.export import export_to_tensorboard\n",
    "import os\n",
    "\n",
    "logdir = 'exported_tb_logs'\n",
    "log_path = os.path.join(os.getcwd(), logdir)\n",
    "try:\n",
    "    os.stat(log_path)\n",
    "except os.error:\n",
    "    os.mkdir(log_path)\n",
    "print(logdir)\n",
    "\n",
    "# export run history for the project\n",
    "export_to_tensorboard(run, logdir) # doesn't currently work?\n",
    "\n",
    "# "
   ]
  }
 ],
 "metadata": {
  "interpreter": {
   "hash": "8a2fea092c787683d2a7a5aa94256de10bcf32add73c5a3a4a53281bd9b2648f"
  },
  "kernelspec": {
   "display_name": "Python 3.7.11 ('base')",
   "language": "python",
   "name": "python3"
  },
  "language_info": {
   "codemirror_mode": {
    "name": "ipython",
    "version": 3
   },
   "file_extension": ".py",
   "mimetype": "text/x-python",
   "name": "python",
   "nbconvert_exporter": "python",
   "pygments_lexer": "ipython3",
   "version": "3.7.11"
  },
  "orig_nbformat": 4
 },
 "nbformat": 4,
 "nbformat_minor": 2
}
