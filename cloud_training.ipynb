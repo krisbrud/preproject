{
 "cells": [
  {
   "cell_type": "code",
   "execution_count": null,
   "metadata": {},
   "outputs": [],
   "source": [
    "import azureml\n",
    "from azureml.core import Workspace\n",
    "workspaces = Workspace.list(\"3165a1c1-fd45-4c8d-938e-0058c823f960\")\n",
    "ws = workspaces[\"aml-playground\"]\n",
    "playground_ws = ws[0]\n",
    "playground_ws"
   ]
  },
  {
   "cell_type": "code",
   "execution_count": null,
   "metadata": {},
   "outputs": [],
   "source": [
    "import mlflow\n",
    "\n",
    "## Construct AzureML MLFLOW TRACKING URI\n",
    "def get_azureml_mlflow_tracking_uri(region, subscription_id, resource_group, workspace):\n",
    "    return \"azureml://{}.api.azureml.ms/mlflow/v1.0/subscriptions/{}/resourceGroups/{}/providers/Microsoft.MachineLearningServices/workspaces/{}\".format(region, subscription_id, resource_group, workspace)\n",
    "\n",
    "region='northeurope' ## example: westus\n",
    "subscription_id = '3165a1c1-fd45-4c8d-938e-0058c823f960' ## example: 11111111-1111-1111-1111-111111111111\n",
    "resource_group = 'aml-playground' ## example: myresourcegroup\n",
    "workspace = 'aml-playground' ## example: myworkspacename\n",
    "\n",
    "MLFLOW_TRACKING_URI = get_azureml_mlflow_tracking_uri(region, subscription_id, resource_group, workspace)\n",
    "\n",
    "## Set the MLFLOW TRACKING URI\n",
    "mlflow.set_tracking_uri(MLFLOW_TRACKING_URI)\n",
    "\n",
    "## Make sure the MLflow URI looks something like this: \n",
    "## azureml://<REGION>.api.azureml.ms/mlflow/v1.0/subscriptions/<SUBSCRIPTION_ID>/resourceGroups/<RESOURCE_GROUP>/providers/Microsoft.MachineLearningServices/workspaces/<AML_WORKSPACE_NAME>\n",
    "\n",
    "print(\"MLFlow Tracking URI:\", MLFLOW_TRACKING_URI)"
   ]
  },
  {
   "cell_type": "code",
   "execution_count": null,
   "metadata": {},
   "outputs": [],
   "source": [
    "from azureml.core.compute import ComputeTarget, AmlCompute\n",
    "from azureml.core.compute_target import ComputeTargetException\n",
    "\n",
    "# Choose a name for your cluster.\n",
    "cluster_name = \"preproject-cluster\"\n",
    "# instance_name = \"cpuinstance1\"\n",
    "# cluster_name = instance_name\n",
    "\n",
    "\n",
    "try:\n",
    "    compute_target = ComputeTarget(workspace=playground_ws, name=cluster_name)\n",
    "    print('Found existing compute target.')\n",
    "except ComputeTargetException:\n",
    "    print('Creating a new compute target...')\n",
    "    compute_config = AmlCompute.provisioning_configuration(vm_size='STANDARD_DS3_V2',\n",
    "                                                           max_nodes=1)\n",
    "\n",
    "    # Create the cluster.\n",
    "    compute_target = ComputeTarget.create(playground_ws, cluster_name, compute_config)\n",
    "\n",
    "    compute_target.wait_for_completion(show_output=True)\n",
    "\n",
    "# Use get_status() to get a detailed status for the current AmlCompute.\n",
    "print(compute_target.get_status().serialize())"
   ]
  },
  {
   "cell_type": "code",
   "execution_count": null,
   "metadata": {},
   "outputs": [],
   "source": [
    "from azureml.core import ScriptRunConfig\n",
    "from azureml.core.environment import Environment as AmlEnvironment\n",
    "\n",
    "auv_docker_env = AmlEnvironment.from_docker_image(\"preproject\", \"krisbrud.azurecr.io/preproject\")\n",
    "# experiment_name = \"\"\n",
    "\n",
    "\n",
    "src = ScriptRunConfig(source_directory='../gym-auv',\n",
    "                      script='train3d.py',\n",
    "                      arguments=[\"--config\", \"surge_assisted\"],\n",
    "                      compute_target=compute_target,\n",
    "                      environment=auv_docker_env)"
   ]
  }
 ],
 "metadata": {
  "language_info": {
   "name": "python"
  },
  "orig_nbformat": 4
 },
 "nbformat": 4,
 "nbformat_minor": 2
}
