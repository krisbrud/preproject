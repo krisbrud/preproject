{
 "cells": [
  {
   "cell_type": "code",
   "execution_count": 4,
   "metadata": {},
   "outputs": [
    {
     "data": {
      "text/plain": [
       "Workspace.create(name='aml-playground', subscription_id='3165a1c1-fd45-4c8d-938e-0058c823f960', resource_group='aml-playground')"
      ]
     },
     "execution_count": 4,
     "metadata": {},
     "output_type": "execute_result"
    }
   ],
   "source": [
    "import azureml\n",
    "from azureml.core import Workspace\n",
    "workspaces = Workspace.list(\"3165a1c1-fd45-4c8d-938e-0058c823f960\")\n",
    "ws = workspaces[\"aml-playground\"]\n",
    "playground_ws = ws[0]\n",
    "playground_ws"
   ]
  },
  {
   "cell_type": "code",
   "execution_count": 5,
   "metadata": {},
   "outputs": [
    {
     "name": "stdout",
     "output_type": "stream",
     "text": [
      "MLFlow Tracking URI: azureml://northeurope.api.azureml.ms/mlflow/v1.0/subscriptions/3165a1c1-fd45-4c8d-938e-0058c823f960/resourceGroups/aml-playground/providers/Microsoft.MachineLearningServices/workspaces/aml-playground\n"
     ]
    }
   ],
   "source": [
    "import mlflow\n",
    "\n",
    "## Construct AzureML MLFLOW TRACKING URI\n",
    "def get_azureml_mlflow_tracking_uri(region, subscription_id, resource_group, workspace):\n",
    "    return \"azureml://{}.api.azureml.ms/mlflow/v1.0/subscriptions/{}/resourceGroups/{}/providers/Microsoft.MachineLearningServices/workspaces/{}\".format(region, subscription_id, resource_group, workspace)\n",
    "\n",
    "region='northeurope' ## example: westus\n",
    "subscription_id = '3165a1c1-fd45-4c8d-938e-0058c823f960' ## example: 11111111-1111-1111-1111-111111111111\n",
    "resource_group = 'aml-playground' ## example: myresourcegroup\n",
    "workspace = 'aml-playground' ## example: myworkspacename\n",
    "\n",
    "MLFLOW_TRACKING_URI = get_azureml_mlflow_tracking_uri(region, subscription_id, resource_group, workspace)\n",
    "\n",
    "## Set the MLFLOW TRACKING URI\n",
    "mlflow.set_tracking_uri(MLFLOW_TRACKING_URI)\n",
    "\n",
    "## Make sure the MLflow URI looks something like this: \n",
    "## azureml://<REGION>.api.azureml.ms/mlflow/v1.0/subscriptions/<SUBSCRIPTION_ID>/resourceGroups/<RESOURCE_GROUP>/providers/Microsoft.MachineLearningServices/workspaces/<AML_WORKSPACE_NAME>\n",
    "\n",
    "print(\"MLFlow Tracking URI:\", MLFLOW_TRACKING_URI)"
   ]
  },
  {
   "cell_type": "code",
   "execution_count": 6,
   "metadata": {},
   "outputs": [
    {
     "name": "stdout",
     "output_type": "stream",
     "text": [
      "Found existing compute target.\n",
      "{'currentNodeCount': 0, 'targetNodeCount': 0, 'nodeStateCounts': {'preparingNodeCount': 0, 'runningNodeCount': 0, 'idleNodeCount': 0, 'unusableNodeCount': 0, 'leavingNodeCount': 0, 'preemptedNodeCount': 0}, 'allocationState': 'Steady', 'allocationStateTransitionTime': '2022-05-06T09:33:07.069000+00:00', 'errors': None, 'creationTime': '2022-05-05T17:16:06.630081+00:00', 'modifiedTime': '2022-05-05T17:16:10.173469+00:00', 'provisioningState': 'Succeeded', 'provisioningStateTransitionTime': None, 'scaleSettings': {'minNodeCount': 0, 'maxNodeCount': 1, 'nodeIdleTimeBeforeScaleDown': 'PT300S'}, 'vmPriority': 'Dedicated', 'vmSize': 'STANDARD_F4S_V2'}\n"
     ]
    }
   ],
   "source": [
    "from azureml.core.compute import ComputeTarget, AmlCompute\n",
    "from azureml.core.compute_target import ComputeTargetException, LocalTarget\n",
    "\n",
    "# Choose a name for your cluster.\n",
    "cluster_name = \"preproject-cluster\"\n",
    "# instance_name = \"cpuinstance1\"\n",
    "# cluster_name = instance_name\n",
    "\n",
    "\n",
    "run_locally = False\n",
    "\n",
    "if run_locally:\n",
    "    compute_target = LocalTarget()\n",
    "else:\n",
    "    # Run in cloud\n",
    "\n",
    "    # Check if we find a cluster with the name\n",
    "    try:\n",
    "        compute_target = ComputeTarget(workspace=playground_ws, name=cluster_name)\n",
    "        print('Found existing compute target.')\n",
    "    except ComputeTargetException:\n",
    "        # Make a new one if an existing target is not found.\n",
    "        print('Creating a new compute target...')\n",
    "        compute_config = AmlCompute.provisioning_configuration(vm_size='Standard_F4s_v2',\n",
    "                                                            max_nodes=1,\n",
    "                                                            idle_seconds_before_scaledown=300)\n",
    "\n",
    "        # Create the cluster.\n",
    "        compute_target = ComputeTarget.create(playground_ws, cluster_name, compute_config)\n",
    "\n",
    "        compute_target.wait_for_completion(show_output=True)\n",
    "\n",
    "# Use get_status() to get a detailed status for the current AmlCompute.\n",
    "if not isinstance(compute_target, LocalTarget):\n",
    "    print(compute_target.get_status().serialize())"
   ]
  },
  {
   "cell_type": "code",
   "execution_count": 7,
   "metadata": {},
   "outputs": [],
   "source": [
    "from azureml.core import ScriptRunConfig\n",
    "from azureml.core.environment import Environment as AmlEnvironment\n",
    "from azureml.core import Experiment\n",
    "\n",
    "\n",
    "auv_docker_env = AmlEnvironment.from_docker_image(\"preproject\", \"krisbrud.azurecr.io/preproject\")\n",
    "# experiment_name = \"\"\n",
    "config_name = \"sippo-weighted-path-follow2\"\n",
    "\n",
    "src = ScriptRunConfig(source_directory='.',\n",
    "                      script='train.py',\n",
    "                      arguments=[\"--config\", config_name], # , \"--timesteps\", int(1e6)], #, \"--timesteps\", int(1e6)],\n",
    "                      compute_target=compute_target,\n",
    "                      environment=auv_docker_env)\n",
    "run = Experiment(playground_ws, config_name).submit(src)\n",
    "# run.wait_for_completion(show_output=True)\n",
    "# Note: If running a \n"
   ]
  }
 ],
 "metadata": {
  "interpreter": {
   "hash": "d4d1e4263499bec80672ea0156c357c1ee493ec2b1c70f0acce89fc37c4a6abe"
  },
  "kernelspec": {
   "display_name": "Python 3.7.11 ('base')",
   "language": "python",
   "name": "python3"
  },
  "language_info": {
   "codemirror_mode": {
    "name": "ipython",
    "version": 3
   },
   "file_extension": ".py",
   "mimetype": "text/x-python",
   "name": "python",
   "nbconvert_exporter": "python",
   "pygments_lexer": "ipython3",
   "version": "3.7.11"
  },
  "orig_nbformat": 4
 },
 "nbformat": 4,
 "nbformat_minor": 2
}
